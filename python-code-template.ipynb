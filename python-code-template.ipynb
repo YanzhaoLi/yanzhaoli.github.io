{
 "cells": [
  {
   "cell_type": "markdown",
   "metadata": {},
   "source": [
    "### 漂亮打印"
   ]
  },
  {
   "cell_type": "code",
   "execution_count": 5,
   "metadata": {},
   "outputs": [
    {
     "name": "stdout",
     "output_type": "stream",
     "text": [
      "{'a': {'b': 3, 'c': 2}}\n",
      "{'a': {'b': 3, 'c': 2}}\n"
     ]
    }
   ],
   "source": [
    "import pprint\n",
    "pp = pprint.PrettyPrinter(indent=4)\n",
    "d = {'a':{'b':3, 'c':2}}\n",
    "pp.pprint(d)\n",
    "pprint.pprint(d, indent=4)"
   ]
  },
  {
   "cell_type": "markdown",
   "metadata": {},
   "source": [
    "### 输入一个矩阵"
   ]
  },
  {
   "cell_type": "code",
   "execution_count": 7,
   "metadata": {
    "collapsed": true
   },
   "outputs": [],
   "source": [
    "def inMatrix(M, N):\n",
    "    m = []\n",
    "    for _ in range(M):\n",
    "        m.append(list(map(int, input().strip().split())))\n",
    "    return m"
   ]
  },
  {
   "cell_type": "markdown",
   "metadata": {},
   "source": [
    "### 输入不定行，比如图的边"
   ]
  },
  {
   "cell_type": "code",
   "execution_count": 2,
   "metadata": {},
   "outputs": [],
   "source": [
    "# 有向图，如无向图需要两次赋值\n",
    "def inEdgesWeight(m, n):\n",
    "    for line in iter(input, ''):\n",
    "        x, y, w = map(int, line.split())\n",
    "        m[x][y] = w\n",
    "def inEdge(m, n):\n",
    "    for line in iter(input, ''):\n",
    "        x, y = map(int, line.split())\n",
    "        m[x][y] = 1   \n",
    "def inGraph():\n",
    "    n = int(input())  #node number\n",
    "    m = [[0 for _ in range(n)] for _ in range(n)]\n",
    "    inEdge(m, n)\n",
    "    return m"
   ]
  },
  {
   "cell_type": "markdown",
   "metadata": {},
   "source": [
    "### 获取list中的最大/最小值的Index"
   ]
  },
  {
   "cell_type": "code",
   "execution_count": 43,
   "metadata": {},
   "outputs": [],
   "source": [
    "def minIndex(lst):\n",
    "    return min(range(len(lst)), key=lst.__getitem__)\n",
    "def maxIndex(lst):\n",
    "    return max(range(len(lst)), key=lst.__getitem__)\n",
    "#print(minIndex([30, 40, 2, 40]))"
   ]
  },
  {
   "cell_type": "markdown",
   "metadata": {},
   "source": [
    "### 建立字符串的trie树，也叫前缀树"
   ]
  },
  {
   "cell_type": "code",
   "execution_count": 6,
   "metadata": {},
   "outputs": [],
   "source": [
    "from collections import defaultdict\n",
    "class Trie:  \n",
    "    root = {}  \n",
    "    END = '#'  \n",
    "    def add(self, word):  \n",
    "        #从根节点遍历单词,char by char,如果不存在则新增,最后加上一个单词结束标志  \n",
    "        node = self.root  \n",
    "        for c in word:  \n",
    "            node=node.setdefault(c,{})  \n",
    "        node[self.END] = None  \n",
    "  \n",
    "    def find(self, word):  \n",
    "        node = self.root  \n",
    "        for c in word:  \n",
    "            if c not in node:  \n",
    "                return False  \n",
    "            node = node[c]  \n",
    "        return self.END in node \n",
    "    \n",
    "from collections import defaultdict\n",
    "\n",
    "class TrieNode():\n",
    "    \"\"\"A set of strings implemented using a trie.\"\"\"\n",
    "\n",
    "    def __init__(self, iterable=()):\n",
    "        self._children = defaultdict(TrieNode)\n",
    "        self._end = False\n",
    "        for element in iterable:\n",
    "            self.add(element)\n",
    "\n",
    "    def add(self, element):\n",
    "        node = self\n",
    "        for s in element:\n",
    "            node = node._children[s]\n",
    "        node._end = True\n",
    "\n",
    "    def __contains__(self, element):\n",
    "        node = self\n",
    "        for k in element:\n",
    "            if k not in node._children:\n",
    "                return False\n",
    "            node = node._children[k]\n",
    "        return node._end\n",
    "\n",
    "    def search(self, term):\n",
    "        \"\"\"Return the elements of the set matching the search term, which may\n",
    "        include wildcards ? (matching exactly one character) and *\n",
    "        (matching zero or more characters).\n",
    "\n",
    "        \"\"\"\n",
    "        results = set() # Set of elements matching search term.\n",
    "        element = []    # Current element reached in search.\n",
    "        def _search(m, node, i):\n",
    "            # Having just matched m, search for term[i:] starting at node.\n",
    "            element.append(m)\n",
    "            if i == len(term):\n",
    "                if node._end:\n",
    "                    results.add(''.join(element))\n",
    "            elif term[i] == '?':\n",
    "                for k, child in node._children.items():\n",
    "                    _search(k, child, i + 1)\n",
    "            elif term[i] == '*':\n",
    "                _search('', node, i + 1)\n",
    "                for k, child in node._children.items():\n",
    "                    _search(k, child, i)\n",
    "            elif term[i] in node._children:\n",
    "                _search(term[i], node._children[term[i]], i + 1)\n",
    "            element.pop()\n",
    "        _search('', self, 0)\n",
    "        return results"
   ]
  },
  {
   "cell_type": "markdown",
   "metadata": {},
   "source": [
    "### 常见库及用法"
   ]
  },
  {
   "cell_type": "code",
   "execution_count": 25,
   "metadata": {},
   "outputs": [],
   "source": [
    "import bisect\n",
    "from collections import defaultdict\n",
    "from collections import OrderedDict\n",
    "from collections import Counter\n",
    "from collections import deque\n",
    "import heapq\n",
    "# 在leetcode中找到相应的使用，然后总结出代码"
   ]
  },
  {
   "cell_type": "markdown",
   "metadata": {},
   "source": [
    "```python\n",
    "import heapq\n",
    "heapq.nlargest(n, iterable, key=None) \n",
    "\n",
    "q = []\n",
    "heapq.heappush(q, (key, data)) # sort by the first filed: key\n",
    "key, data = q[0]\n",
    "heapq.heappop(q)\n",
    "\n",
    "class Node:\n",
    "    def __init__(self, x, w):\n",
    "        self.x, self.y = x, w\n",
    "    def __le__(self, node):\n",
    "        return self.w < node.w\n",
    "heapq.heappush(q, Node(1, 3))\n",
    "```"
   ]
  },
  {
   "cell_type": "markdown",
   "metadata": {},
   "source": [
    "### PyTricks from Stephan Pochmann   -- [link](https://github.com/pochmann/PyTricks)"
   ]
  },
  {
   "cell_type": "code",
   "execution_count": 8,
   "metadata": {},
   "outputs": [
    {
     "data": {
      "text/plain": [
       "defaultdict(<function __main__.<lambda>>,\n",
       "            {'left': defaultdict(<function __main__.<lambda>>,\n",
       "                         {'left': 'li'})})"
      ]
     },
     "execution_count": 8,
     "metadata": {},
     "output_type": "execute_result"
    }
   ],
   "source": [
    "from collections import defaultdict\n",
    "tree = lambda: defaultdict(tree)\n",
    "#tree 是一个函数，函数返回值是defaultdict(tree)\n",
    "#defaultdict 参数是一个工厂，一般是一个class或者一个返回新值的function，这里是后者\n",
    "users = tree()\n",
    "users['left']['left'] = 'li'"
   ]
  },
  {
   "cell_type": "markdown",
   "metadata": {},
   "source": [
    "# ACM 模板 python version"
   ]
  },
  {
   "cell_type": "markdown",
   "metadata": {},
   "source": [
    "### 阶乘的长度"
   ]
  },
  {
   "cell_type": "code",
   "execution_count": 38,
   "metadata": {},
   "outputs": [],
   "source": [
    "import math\n",
    "def lfactorial(n):  #sterling function\n",
    "    if n==1:\n",
    "        return 1\n",
    "    return int(0.5*math.log10(2.0*math.pi*n)+n*math.log10(n)-n*math.log10(math.e)+1)\n",
    "# n== lfactorial(110)"
   ]
  },
  {
   "cell_type": "markdown",
   "metadata": {},
   "source": [
    "### 阶乘尾部非0位数"
   ]
  },
  {
   "cell_type": "code",
   "execution_count": 9,
   "metadata": {},
   "outputs": [
    {
     "data": {
      "text/plain": [
       "1"
      ]
     },
     "execution_count": 9,
     "metadata": {},
     "output_type": "execute_result"
    }
   ],
   "source": [
    "import math\n",
    "abs(-1)"
   ]
  },
  {
   "cell_type": "markdown",
   "metadata": {},
   "source": [
    "### Dijkstra  返回到目标点集的最短距离"
   ]
  },
  {
   "cell_type": "code",
   "execution_count": 24,
   "metadata": {},
   "outputs": [
    {
     "data": {
      "text/plain": [
       "<function print>"
      ]
     },
     "execution_count": 24,
     "metadata": {},
     "output_type": "execute_result"
    }
   ],
   "source": [
    "import heapq\n",
    "\n",
    "#@graph[N][N]; @src vetex; @dset is a iterable set containing destination shops\n",
    "def dijkstra(graph, N, src, dset):\n",
    "    visited = [False] * N\n",
    "    short = [float('inf') for _ in range(N)]\n",
    "    short[src] = 0\n",
    "\n",
    "    q = [(short[src], src)]\n",
    "    while len(q):\n",
    "        cv, ci = q[0]\n",
    "        heapq.heappop(q)\n",
    "        visited[ci] = True\n",
    "        graph[src][ci], graph[ci][src] = cv, cv  #if you query for many times, this is a trick\n",
    "        if ci in dset:\n",
    "            return cv\n",
    "        for i in range(N):\n",
    "            if not visited[i]:\n",
    "                if cv + graph[ci][i] < short[i]:\n",
    "                    short[i] = cv + graph[ci][i]\n",
    "                    heapq.heappush(q, (short[i], i))\n",
    "\n",
    "''' build graph of Indeed Tokyo\n",
    "N, M = map(int, input().split())\n",
    "g = [[float('inf') for _ in range(N)] for _ in range(N)]\n",
    "for i in range(N):\n",
    "    for j in range(N):\n",
    "        if i == j:\n",
    "            g[i][j] = 0\n",
    "#input edge with weights\n",
    "for _ in range(M):\n",
    "    a, b, c = map(int, input().split())\n",
    "    g[a-1][b-1] = c\n",
    "    g[b-1][a-1] = c\n",
    "#destinated vetex\n",
    "K = int(input()) \n",
    "d = [0] * K\n",
    "for i in range(K):\n",
    "    d[i] = int(input())-1\n",
    "#queries for shortest distance to vetex in d\n",
    "Q = int(input())\n",
    "for _ in range(Q):\n",
    "    y = int(input())-1\n",
    "    if y in d:\n",
    "        print(\"0\")\n",
    "    else:\n",
    "        print(dijkstra(g, N, y, d))\n",
    "'''\n",
    "print"
   ]
  },
  {
   "cell_type": "code",
   "execution_count": 26,
   "metadata": {},
   "outputs": [
    {
     "name": "stdout",
     "output_type": "stream",
     "text": [
      "Help on function nlargest in module heapq:\n",
      "\n",
      "nlargest(n, iterable, key=None)\n",
      "    Find the n largest elements in a dataset.\n",
      "    \n",
      "    Equivalent to:  sorted(iterable, key=key, reverse=True)[:n]\n",
      "\n"
     ]
    }
   ],
   "source": []
  },
  {
   "cell_type": "code",
   "execution_count": null,
   "metadata": {
    "collapsed": true
   },
   "outputs": [],
   "source": []
  }
 ],
 "metadata": {
  "anaconda-cloud": {},
  "kernelspec": {
   "display_name": "Python 3",
   "language": "python",
   "name": "python3"
  },
  "language_info": {
   "codemirror_mode": {
    "name": "ipython",
    "version": 3
   },
   "file_extension": ".py",
   "mimetype": "text/x-python",
   "name": "python",
   "nbconvert_exporter": "python",
   "pygments_lexer": "ipython3",
   "version": "3.6.5"
  }
 },
 "nbformat": 4,
 "nbformat_minor": 2
}
